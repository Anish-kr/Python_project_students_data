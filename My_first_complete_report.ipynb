{
 "cells": [
  {
   "cell_type": "markdown",
   "metadata": {},
   "source": [
    "#  Data Analysis_1\n"
   ]
  },
  {
   "cell_type": "markdown",
   "metadata": {},
   "source": [
    "By: Anish Kumar  \n",
    " [My Github profile](https://github.com/Anish-kr)"
   ]
  },
  {
   "cell_type": "markdown",
   "metadata": {},
   "source": [
    "In this project,my aim is to analyse the three csv files-\n",
    "* Enrollment.csv\n",
    "* Engagement.csv\n",
    "* project_submission.csv\n",
    "\n",
    "These files include the enrollment data, engagement data and project submissions data of the students of Udacity. \n"
   ]
  },
  {
   "cell_type": "markdown",
   "metadata": {},
   "source": [
    "This project involves basic analysis in python."
   ]
  },
  {
   "cell_type": "markdown",
   "metadata": {},
   "source": [
    "Let's start with importing all the required libraries\n"
   ]
  },
  {
   "cell_type": "code",
   "execution_count": 3,
   "metadata": {
    "collapsed": false
   },
   "outputs": [
    {
     "name": "stdout",
     "output_type": "stream",
     "text": [
      "Populating the interactive namespace from numpy and matplotlib\n"
     ]
    }
   ],
   "source": [
    "import unicodecsv\n",
    "from datetime import datetime as dt\n",
    "\n",
    "%pylab inline\n",
    "import matplotlib.pyplot as plt\n",
    "\n"
   ]
  },
  {
   "cell_type": "markdown",
   "metadata": {},
   "source": [
    "Next let us import all the data and store in a suitable variable.  \n",
    "For this let us define a function that shall ease our work. \n"
   ]
  },
  {
   "cell_type": "code",
   "execution_count": 4,
   "metadata": {
    "collapsed": false
   },
   "outputs": [],
   "source": [
    "\n",
    "def read_csv(filename):\n",
    "    with open(filename,'rb') as f:\n",
    "        reader= unicodecsv.DictReader(f)\n",
    "        return list(reader)\n",
    "        "
   ]
  },
  {
   "cell_type": "markdown",
   "metadata": {},
   "source": [
    "Now importing data using the defined function"
   ]
  },
  {
   "cell_type": "code",
   "execution_count": 5,
   "metadata": {
    "collapsed": false
   },
   "outputs": [],
   "source": [
    "enrollments= read_csv('enrollments.csv')\n",
    "daily_engagements= read_csv('daily_engagement.csv')\n",
    "project_submissions= read_csv('project_submissions.csv')\n",
    "\n"
   ]
  },
  {
   "cell_type": "markdown",
   "metadata": {},
   "source": [
    "Let us a print a sample of the read data"
   ]
  },
  {
   "cell_type": "code",
   "execution_count": 6,
   "metadata": {
    "collapsed": false
   },
   "outputs": [
    {
     "name": "stdout",
     "output_type": "stream",
     "text": [
      "{u'status': u'canceled', u'is_udacity': u'True', u'is_canceled': u'True', u'join_date': u'2014-11-10', u'account_key': u'448', u'cancel_date': u'2015-01-14', u'days_to_cancel': u'65'}\n"
     ]
    }
   ],
   "source": [
    "print enrollments[0]  "
   ]
  },
  {
   "cell_type": "code",
   "execution_count": 7,
   "metadata": {
    "collapsed": false
   },
   "outputs": [
    {
     "name": "stdout",
     "output_type": "stream",
     "text": [
      "{u'lessons_completed': u'0.0', u'num_courses_visited': u'1.0', u'total_minutes_visited': u'11.6793745', u'projects_completed': u'0.0', u'acct': u'0', u'utc_date': u'2015-01-09'}\n"
     ]
    }
   ],
   "source": [
    "print daily_engagements[0]  "
   ]
  },
  {
   "cell_type": "code",
   "execution_count": 8,
   "metadata": {
    "collapsed": false
   },
   "outputs": [
    {
     "name": "stdout",
     "output_type": "stream",
     "text": [
      "{u'lesson_key': u'3176718735', u'processing_state': u'EVALUATED', u'account_key': u'256', u'assigned_rating': u'UNGRADED', u'completion_date': u'2015-01-16', u'creation_date': u'2015-01-14'}\n"
     ]
    }
   ],
   "source": [
    "print project_submissions[0]"
   ]
  },
  {
   "cell_type": "markdown",
   "metadata": {},
   "source": [
    "But we find that all values are by default string values which is not suitable. We'll have to fix their datatypes as required."
   ]
  },
  {
   "cell_type": "code",
   "execution_count": 9,
   "metadata": {
    "collapsed": true
   },
   "outputs": [],
   "source": [
    "#defining function for fixing date datatypes\n",
    "def parse_date(date):\n",
    "    if date=='':\n",
    "        return None\n",
    "    else:\n",
    "        return dt.strptime(date, '%Y-%m-%d' )\n",
    "    \n",
    "    \n",
    "#function for fixing integer datatypes\n",
    "def parse_maybe_int(i):\n",
    "    if i=='':\n",
    "        return None\n",
    "    else:\n",
    "        return int(i)   \n",
    "\n",
    "\n"
   ]
  },
  {
   "cell_type": "code",
   "execution_count": 10,
   "metadata": {
    "collapsed": false
   },
   "outputs": [],
   "source": [
    "for enrollment in enrollments:\n",
    "    enrollment['cancel_date'] = parse_date(enrollment['cancel_date'])\n",
    "    enrollment['days_to_cancel'] = parse_maybe_int(enrollment['days_to_cancel'])\n",
    "    enrollment['is_canceled'] = enrollment['is_canceled'] == 'True'\n",
    "    enrollment['is_udacity'] = enrollment['is_udacity'] == 'True'\n",
    "    enrollment['join_date'] = parse_date(enrollment['join_date'])\n",
    "    "
   ]
  },
  {
   "cell_type": "code",
   "execution_count": 11,
   "metadata": {
    "collapsed": true
   },
   "outputs": [],
   "source": [
    "# Clean up the data types in the engagement table\n",
    "for engagement_record in daily_engagements:\n",
    "    engagement_record['lessons_completed'] = int(float(engagement_record['lessons_completed']))\n",
    "    engagement_record['num_courses_visited'] = int(float(engagement_record['num_courses_visited']))\n",
    "    engagement_record['projects_completed'] = int(float(engagement_record['projects_completed']))\n",
    "    engagement_record['total_minutes_visited'] = float(engagement_record['total_minutes_visited'])\n",
    "    engagement_record['utc_date'] = parse_date(engagement_record['utc_date'])"
   ]
  },
  {
   "cell_type": "code",
   "execution_count": 12,
   "metadata": {
    "collapsed": true
   },
   "outputs": [],
   "source": [
    "# Clean up the data types in the submissions table\n",
    "for submission in project_submissions:\n",
    "    submission['completion_date'] = parse_date(submission['completion_date'])\n",
    "    submission['creation_date'] = parse_date(submission['creation_date'])"
   ]
  },
  {
   "cell_type": "code",
   "execution_count": 13,
   "metadata": {
    "collapsed": false
   },
   "outputs": [
    {
     "name": "stdout",
     "output_type": "stream",
     "text": [
      "{u'status': u'canceled', u'is_udacity': True, u'is_canceled': True, u'join_date': datetime.datetime(2014, 11, 10, 0, 0), u'account_key': u'448', u'cancel_date': datetime.datetime(2015, 1, 14, 0, 0), u'days_to_cancel': 65}\n",
      "{u'lessons_completed': 0, u'num_courses_visited': 1, u'total_minutes_visited': 11.6793745, u'projects_completed': 0, u'acct': u'0', u'utc_date': datetime.datetime(2015, 1, 9, 0, 0)}\n",
      "{u'lesson_key': u'3176718735', u'processing_state': u'EVALUATED', u'account_key': u'256', u'assigned_rating': u'UNGRADED', u'completion_date': datetime.datetime(2015, 1, 16, 0, 0), u'creation_date': datetime.datetime(2015, 1, 14, 0, 0)}\n"
     ]
    }
   ],
   "source": [
    "print enrollments[0]\n",
    "print daily_engagements[0]\n",
    "print project_submissions[0]"
   ]
  },
  {
   "cell_type": "code",
   "execution_count": 14,
   "metadata": {
    "collapsed": false
   },
   "outputs": [
    {
     "name": "stdout",
     "output_type": "stream",
     "text": [
      "1640\n",
      "136240\n",
      "3642\n"
     ]
    }
   ],
   "source": [
    "print len(enrollments)\n",
    "print len(daily_engagements)\n",
    "print len(project_submissions)"
   ]
  },
  {
   "cell_type": "code",
   "execution_count": 15,
   "metadata": {
    "collapsed": true
   },
   "outputs": [],
   "source": [
    "#Equalizing the header namein all lists\n",
    "for data in daily_engagements:\n",
    "    data['account_key']= data['acct']\n",
    "    del[data['acct']]"
   ]
  },
  {
   "cell_type": "code",
   "execution_count": 16,
   "metadata": {
    "collapsed": false
   },
   "outputs": [
    {
     "data": {
      "text/plain": [
       "u'0'"
      ]
     },
     "execution_count": 16,
     "metadata": {},
     "output_type": "execute_result"
    }
   ],
   "source": [
    "#to make sure the change is applied\n",
    "daily_engagements[0]['account_key']"
   ]
  },
  {
   "cell_type": "markdown",
   "metadata": {},
   "source": [
    "***********************************************************************************************************************\n",
    "\n",
    "\n",
    "**Now let us see what questions can we answer using this data**  \n",
    " 1) How long does it take students to submit their first project?  \n",
    " 2) How do students who pass differ from those who don't ?  \n",
    " 3) On an average How many lessons were completed by those who passed?  \n",
    " 4) what was the daily engagement ofthose who passed?  \n",
    " 5) Which all lessons were surely taken up by those who passed?  \n",
    " 6) Which lessons were taken by those who could not complete?    \n",
    " 7) In which month most students passed?  \n",
    " 8) In which year most students passed?  \n",
    " 9) How many were such students who passed with distinction?  \n",
    " 10) What ws the peculiarity about them?  \n",
    " "
   ]
  },
  {
   "cell_type": "markdown",
   "metadata": {},
   "source": [
    "These are some of the many question we can answer using the obtained data. Let us try to solve them one by one."
   ]
  },
  {
   "cell_type": "markdown",
   "metadata": {},
   "source": [
    "** But first we'll have to make sure that there are no unwanted data in our dataset! For that let us first investigate our dataset and look for any surprising points**\n",
    "\n",
    "#### Data cleaning Phase"
   ]
  },
  {
   "cell_type": "code",
   "execution_count": 17,
   "metadata": {
    "collapsed": false
   },
   "outputs": [
    {
     "name": "stdout",
     "output_type": "stream",
     "text": [
      "Unique_enrolled_Students 1302\n",
      "Unique_no_of_projects_submitted 743\n",
      "Unique_no_of_students_engaged 1237\n"
     ]
    }
   ],
   "source": [
    "#First finding the unique no of students enrolled. As one particular student may have enrolled and \n",
    "#again cancelled and agian enrolled. So it's important we find the unique no.\n",
    "\n",
    "def unique_students(data):\n",
    "    uni_st = set()\n",
    "    for datapoint in data:\n",
    "        uni_st.add(datapoint['account_key'])\n",
    "    return uni_st\n",
    "\n",
    "print \"Unique_enrolled_Students\",len(unique_students(enrollments))\n",
    "print \"Unique_no_of_projects_submitted\",len(unique_students(project_submissions))\n",
    "print \"Unique_no_of_students_engaged\",len(unique_students(daily_engagements))"
   ]
  },
  {
   "cell_type": "code",
   "execution_count": 18,
   "metadata": {
    "collapsed": false
   },
   "outputs": [],
   "source": [
    "Unique_enrolled_Students = unique_students(enrollments)\n",
    "Unique_no_of_projects_submitted=unique_students(project_submissions)\n",
    "Unique_no_of_students_engaged=unique_students(daily_engagements)\n",
    "\n"
   ]
  },
  {
   "cell_type": "markdown",
   "metadata": {},
   "source": [
    "Notice that the number of unique students engaged is different from the no unique students enrolled that is not good. Something is different than expected. Let us investigate as to how the difference is coming up."
   ]
  },
  {
   "cell_type": "markdown",
   "metadata": {},
   "source": [
    "Let us find the suprising data points. The students who are enrolled but not engaged."
   ]
  },
  {
   "cell_type": "code",
   "execution_count": 19,
   "metadata": {
    "collapsed": false
   },
   "outputs": [
    {
     "name": "stdout",
     "output_type": "stream",
     "text": [
      "{u'status': u'canceled', u'is_udacity': False, u'is_canceled': True, u'join_date': datetime.datetime(2014, 11, 12, 0, 0), u'account_key': u'1219', u'cancel_date': datetime.datetime(2014, 11, 12, 0, 0), u'days_to_cancel': 0}\n"
     ]
    }
   ],
   "source": [
    "for enrollment in enrollments:\n",
    "    student= enrollment['account_key']\n",
    "    if student not in Unique_no_of_students_engaged:\n",
    "        print enrollment\n",
    "        break\n",
    "        \n",
    "        \n"
   ]
  },
  {
   "cell_type": "markdown",
   "metadata": {},
   "source": [
    "This we found that one major reason as to why this happening was beacause some student enrolled and cancelled on the same day. But this really not a problem. However, we should know that such a data exists!"
   ]
  },
  {
   "cell_type": "markdown",
   "metadata": {},
   "source": [
    "Now, we'll check if any other surprising data points exist."
   ]
  },
  {
   "cell_type": "code",
   "execution_count": 20,
   "metadata": {
    "collapsed": false
   },
   "outputs": [
    {
     "name": "stdout",
     "output_type": "stream",
     "text": [
      "3\n"
     ]
    }
   ],
   "source": [
    "num_of_prob = 0\n",
    "for enrollment in enrollments:\n",
    "    student = enrollment['account_key']\n",
    "    if student not in Unique_no_of_students_engaged and (enrollment['join_date'] != enrollment['cancel_date']):\n",
    "        num_of_prob = num_of_prob+1\n",
    "        \n",
    "\n",
    "        \n",
    "print num_of_prob"
   ]
  },
  {
   "cell_type": "markdown",
   "metadata": {},
   "source": [
    "Since Only three surprising records left, Let us print all of them.\n"
   ]
  },
  {
   "cell_type": "code",
   "execution_count": 21,
   "metadata": {
    "collapsed": false
   },
   "outputs": [
    {
     "name": "stdout",
     "output_type": "stream",
     "text": [
      "{u'status': u'canceled', u'is_udacity': True, u'is_canceled': True, u'join_date': datetime.datetime(2015, 1, 10, 0, 0), u'account_key': u'1304', u'cancel_date': datetime.datetime(2015, 3, 10, 0, 0), u'days_to_cancel': 59}\n",
      "{u'status': u'canceled', u'is_udacity': True, u'is_canceled': True, u'join_date': datetime.datetime(2015, 3, 10, 0, 0), u'account_key': u'1304', u'cancel_date': datetime.datetime(2015, 6, 17, 0, 0), u'days_to_cancel': 99}\n",
      "{u'status': u'current', u'is_udacity': True, u'is_canceled': False, u'join_date': datetime.datetime(2015, 2, 25, 0, 0), u'account_key': u'1101', u'cancel_date': None, u'days_to_cancel': None}\n"
     ]
    }
   ],
   "source": [
    "for enrollment in enrollments:\n",
    "    student = enrollment['account_key']\n",
    "    if student not in Unique_no_of_students_engaged and (enrollment['join_date'] != enrollment['cancel_date']):\n",
    "        print enrollment\n",
    "        \n",
    "\n",
    "        \n"
   ]
  },
  {
   "cell_type": "markdown",
   "metadata": {},
   "source": [
    "On enquiring,we realize that these are Udacity test accounts. We'll have to remove them from our dataset anyway."
   ]
  },
  {
   "cell_type": "code",
   "execution_count": 22,
   "metadata": {
    "collapsed": false
   },
   "outputs": [
    {
     "name": "stdout",
     "output_type": "stream",
     "text": [
      "6\n"
     ]
    }
   ],
   "source": [
    "test_acc=set()\n",
    "for enrollment in enrollments:\n",
    "    if enrollment['is_udacity']:\n",
    "        test_acc.add(enrollment['account_key'])\n",
    "    \n",
    "print len(test_acc)\n"
   ]
  },
  {
   "cell_type": "markdown",
   "metadata": {},
   "source": [
    "These are also unwanted data that have to be removed from our data before we start our analysis.  \n",
    "Let us start with removing all these unwanted data from our dataset.\n",
    "\n",
    "Removing the Udacity test accounts"
   ]
  },
  {
   "cell_type": "code",
   "execution_count": 23,
   "metadata": {
    "collapsed": true
   },
   "outputs": [],
   "source": [
    "#let us define a function for the same\n",
    "\n",
    "def remove_test_account(data):\n",
    "    new_list=[]\n",
    "    for datapoint in data:\n",
    "        if datapoint['account_key'] not in test_acc:\n",
    "            new_list.append(datapoint)\n",
    "    return new_list\n",
    "\n",
    "non_udacity_enrollments = remove_test_account(enrollments)\n",
    "non_udacity_daily_engagements = remove_test_account(daily_engagements)\n",
    "non_udacity_project_submissions = remove_test_account(project_submissions)          \n",
    "\n",
    "\n",
    "        \n",
    "        "
   ]
  },
  {
   "cell_type": "code",
   "execution_count": 24,
   "metadata": {
    "collapsed": false
   },
   "outputs": [
    {
     "data": {
      "text/plain": [
       "{u'account_key': u'700',\n",
       " u'cancel_date': datetime.datetime(2014, 11, 16, 0, 0),\n",
       " u'days_to_cancel': 6,\n",
       " u'is_canceled': True,\n",
       " u'is_udacity': False,\n",
       " u'join_date': datetime.datetime(2014, 11, 10, 0, 0),\n",
       " u'status': u'canceled'}"
      ]
     },
     "execution_count": 24,
     "metadata": {},
     "output_type": "execute_result"
    }
   ],
   "source": [
    "non_udacity_enrollments[0] \n"
   ]
  },
  {
   "cell_type": "code",
   "execution_count": 25,
   "metadata": {
    "collapsed": false
   },
   "outputs": [
    {
     "data": {
      "text/plain": [
       "{'account_key': u'0',\n",
       " u'lessons_completed': 0,\n",
       " u'num_courses_visited': 1,\n",
       " u'projects_completed': 0,\n",
       " u'total_minutes_visited': 11.6793745,\n",
       " u'utc_date': datetime.datetime(2015, 1, 9, 0, 0)}"
      ]
     },
     "execution_count": 25,
     "metadata": {},
     "output_type": "execute_result"
    }
   ],
   "source": [
    "non_udacity_daily_engagements[0]\n"
   ]
  },
  {
   "cell_type": "code",
   "execution_count": 26,
   "metadata": {
    "collapsed": false
   },
   "outputs": [
    {
     "data": {
      "text/plain": [
       "{u'account_key': u'256',\n",
       " u'assigned_rating': u'UNGRADED',\n",
       " u'completion_date': datetime.datetime(2015, 1, 16, 0, 0),\n",
       " u'creation_date': datetime.datetime(2015, 1, 14, 0, 0),\n",
       " u'lesson_key': u'3176718735',\n",
       " u'processing_state': u'EVALUATED'}"
      ]
     },
     "execution_count": 26,
     "metadata": {},
     "output_type": "execute_result"
    }
   ],
   "source": [
    "non_udacity_project_submissions[0]          \n"
   ]
  },
  {
   "cell_type": "code",
   "execution_count": 27,
   "metadata": {
    "collapsed": false
   },
   "outputs": [
    {
     "name": "stdout",
     "output_type": "stream",
     "text": [
      "1622\n",
      "135656\n",
      "3634\n"
     ]
    }
   ],
   "source": [
    "print len(non_udacity_enrollments)\n",
    "print len(non_udacity_daily_engagements)\n",
    "print len(non_udacity_project_submissions)\n"
   ]
  },
  {
   "cell_type": "markdown",
   "metadata": {},
   "source": [
    "### Now that we have cleaned our data, Let us start with dealing with the questions.\n",
    "\n",
    "  1) **How total_minutes_visited differ for the students who pass the first project versus those who don't?**"
   ]
  },
  {
   "cell_type": "markdown",
   "metadata": {},
   "source": [
    "But there is problem that underlies the investigation of this question that we'll have to take care of.   \n",
    "* There is a certain time gap between project submission and result being given\n",
    "* Each person takes different amount of time to complete the project. So Our comparision is being done for different length of time for diffrent person.\n",
    "* Person engaged could have been involved in project other than the first project."
   ]
  },
  {
   "cell_type": "markdown",
   "metadata": {},
   "source": [
    "To compensate the problems let us consider only the paid students that too only their engagement for the first week."
   ]
  },
  {
   "cell_type": "code",
   "execution_count": 28,
   "metadata": {
    "collapsed": false
   },
   "outputs": [
    {
     "data": {
      "text/plain": [
       "995"
      ]
     },
     "execution_count": 28,
     "metadata": {},
     "output_type": "execute_result"
    }
   ],
   "source": [
    "#Extracting the list of paid students\n",
    "\n",
    "paid_students={}\n",
    "\n",
    "for enrollment in non_udacity_enrollments:\n",
    "        if not enrollment['is_canceled'] or enrollment['days_to_cancel']>7:\n",
    "            account_key= enrollment['account_key']\n",
    "            enrollment_date= enrollment['join_date']\n",
    "            paid_students[account_key]= enrollment_date\n",
    "\n",
    "\n",
    "# no of paid students\n",
    "len(paid_students)"
   ]
  },
  {
   "cell_type": "code",
   "execution_count": 29,
   "metadata": {
    "collapsed": false
   },
   "outputs": [
    {
     "data": {
      "text/plain": [
       "995"
      ]
     },
     "execution_count": 29,
     "metadata": {},
     "output_type": "execute_result"
    }
   ],
   "source": [
    "\n",
    "for enrollment in non_udacity_enrollments:\n",
    "        if not enrollment['is_canceled'] or enrollment['days_to_cancel']>7:\n",
    "            account_key= enrollment['account_key']\n",
    "            enrollment_date= enrollment['join_date']\n",
    "            \n",
    "            if account_key not in paid_students or enrollment_date > paid_students[account_key]:\n",
    "                    paid_students[account_key] = enrollment_date\n",
    "                    \n",
    "len(paid_students)"
   ]
  },
  {
   "cell_type": "markdown",
   "metadata": {},
   "source": [
    "Now let us look at the number of engagegmets that too place for these students within first week of joining."
   ]
  },
  {
   "cell_type": "code",
   "execution_count": 30,
   "metadata": {
    "collapsed": true
   },
   "outputs": [],
   "source": [
    "def within_first_week(engagement_date, join_date):\n",
    "    time_delta = engagement_date - join_date\n",
    "    return time_delta.days < 7 and time_delta.days >=0\n"
   ]
  },
  {
   "cell_type": "code",
   "execution_count": 31,
   "metadata": {
    "collapsed": true
   },
   "outputs": [],
   "source": [
    "\n",
    "def remove_free_trial(data):\n",
    "    new_list = []\n",
    "    for data_point in data:\n",
    "        account_key = data_point['account_key']\n",
    "        if account_key in paid_students:\n",
    "            new_list.append(data_point)\n",
    "    return new_list\n",
    "\n",
    "\n",
    "            "
   ]
  },
  {
   "cell_type": "code",
   "execution_count": 32,
   "metadata": {
    "collapsed": false
   },
   "outputs": [
    {
     "name": "stdout",
     "output_type": "stream",
     "text": [
      "1293\n",
      "134549\n",
      "3618\n"
     ]
    }
   ],
   "source": [
    "paid_enrollments = remove_free_trial(non_udacity_enrollments)\n",
    "paid_engagements = remove_free_trial(non_udacity_daily_engagements)\n",
    "paid_submissions = remove_free_trial(non_udacity_project_submissions)\n",
    "\n",
    "print len(paid_enrollments)\n",
    "print len(paid_engagements)\n",
    "print len(paid_submissions)"
   ]
  },
  {
   "cell_type": "code",
   "execution_count": 33,
   "metadata": {
    "collapsed": false
   },
   "outputs": [
    {
     "name": "stdout",
     "output_type": "stream",
     "text": [
      "{u'status': u'canceled', u'is_udacity': False, u'is_canceled': True, u'join_date': datetime.datetime(2014, 11, 10, 0, 0), u'account_key': u'429', u'cancel_date': datetime.datetime(2015, 3, 10, 0, 0), u'days_to_cancel': 120}\n",
      "{u'lessons_completed': 0, u'num_courses_visited': 1, u'total_minutes_visited': 11.6793745, u'projects_completed': 0, 'account_key': u'0', u'utc_date': datetime.datetime(2015, 1, 9, 0, 0)}\n"
     ]
    }
   ],
   "source": [
    "#i=2\n",
    "#for data in paid_enrollments:\n",
    "#    print data\n",
    "#    i=i-1\n",
    "#    if (i==0):\n",
    "#        break\n",
    "        \n",
    "print paid_enrollments[0]\n",
    "print paid_engagements[0]\n",
    "##NOte how we are referring to the list of dictionaries!! EIther ways Ok!!"
   ]
  },
  {
   "cell_type": "code",
   "execution_count": 34,
   "metadata": {
    "collapsed": false
   },
   "outputs": [
    {
     "data": {
      "text/plain": [
       "6919"
      ]
     },
     "execution_count": 34,
     "metadata": {},
     "output_type": "execute_result"
    }
   ],
   "source": [
    "paid_engagement_in_first_week= []\n",
    "\n",
    "for engagement in paid_engagements:\n",
    "    account_key = engagement['account_key']\n",
    "    engagement_date= engagement['utc_date']\n",
    "    join_date = paid_students[account_key]\n",
    "    if within_first_week(engagement_date,join_date):\n",
    "        paid_engagement_in_first_week.append(engagement)\n",
    "        \n",
    "len(paid_engagement_in_first_week)"
   ]
  },
  {
   "cell_type": "code",
   "execution_count": 35,
   "metadata": {
    "collapsed": true
   },
   "outputs": [],
   "source": [
    "for engagement in paid_engagement_in_first_week:\n",
    "    if engagement['num_courses_visited']:\n",
    "        engagement['have_visited'] = 1\n",
    "    else:\n",
    "        engagement['have_visited']= 0\n",
    "        "
   ]
  },
  {
   "cell_type": "code",
   "execution_count": 36,
   "metadata": {
    "collapsed": false
   },
   "outputs": [
    {
     "data": {
      "text/plain": [
       "{'account_key': u'0',\n",
       " 'have_visited': 1,\n",
       " u'lessons_completed': 0,\n",
       " u'num_courses_visited': 1,\n",
       " u'projects_completed': 0,\n",
       " u'total_minutes_visited': 11.6793745,\n",
       " u'utc_date': datetime.datetime(2015, 1, 9, 0, 0)}"
      ]
     },
     "execution_count": 36,
     "metadata": {},
     "output_type": "execute_result"
    }
   ],
   "source": [
    "paid_engagement_in_first_week[0]"
   ]
  },
  {
   "cell_type": "code",
   "execution_count": 37,
   "metadata": {
    "collapsed": false
   },
   "outputs": [],
   "source": [
    "from collections import defaultdict\n",
    "\n",
    "engagement_by_account= defaultdict(list)\n",
    "for engagement_record in paid_engagement_in_first_week:\n",
    "    account_key = engagement_record['account_key']\n",
    "    engagement_by_account[account_key].append(engagement_record)\n",
    "    \n",
    "\n",
    "    \n",
    " \n",
    "            \n",
    "\n",
    "    \n",
    "    "
   ]
  },
  {
   "cell_type": "code",
   "execution_count": 38,
   "metadata": {
    "collapsed": false
   },
   "outputs": [],
   "source": [
    "total_minutes_by_account = {}\n",
    "\n",
    "for account_key, engagement_for_student in engagement_by_account.items():\n",
    "    total_minutes= 0\n",
    "    for engagement_record in engagement_for_student:\n",
    "        total_minutes += engagement_record['total_minutes_visited']\n",
    "    total_minutes_by_account[account_key]=(total_minutes)\n",
    "    \n",
    "\n"
   ]
  },
  {
   "cell_type": "code",
   "execution_count": 39,
   "metadata": {
    "collapsed": false
   },
   "outputs": [],
   "source": [
    "# Extracting only the values from the dictionary \n",
    "total_minutes = total_minutes_by_account.values()\n",
    "\n",
    "\n"
   ]
  },
  {
   "cell_type": "code",
   "execution_count": 40,
   "metadata": {
    "collapsed": false
   },
   "outputs": [
    {
     "name": "stdout",
     "output_type": "stream",
     "text": [
      "Mean Value 306.708326753\n",
      "Standard Deviation Value 412.996933409\n",
      "Min Value 0.0\n",
      "Max Value 3564.7332645\n"
     ]
    }
   ],
   "source": [
    "import numpy as np\n",
    "\n",
    "print \"Mean Value\",np.mean(total_minutes)\n",
    "print \"Standard Deviation Value\",np.std(total_minutes)\n",
    "print \"Min Value\",np.min(total_minutes)\n",
    "print \"Max Value\",np.max(total_minutes)"
   ]
  },
  {
   "cell_type": "code",
   "execution_count": 41,
   "metadata": {
    "collapsed": false
   },
   "outputs": [
    {
     "name": "stdout",
     "output_type": "stream",
     "text": [
      "0\n"
     ]
    }
   ],
   "source": [
    "no_prob =0\n",
    "for engagement in paid_engagement_in_first_week:\n",
    "    account_key = engagement['account_key']\n",
    "    if total_minutes_by_account[account_key] > 10080:\n",
    "        no_prob += no_prob+1\n",
    "        \n",
    "        \n",
    "print no_prob"
   ]
  },
  {
   "cell_type": "markdown",
   "metadata": {},
   "source": [
    "## Now I'll try to analyze the the lessons completed.\n"
   ]
  },
  {
   "cell_type": "code",
   "execution_count": 42,
   "metadata": {
    "collapsed": false
   },
   "outputs": [],
   "source": [
    "# \n",
    "engagement_by_account_lessons = defaultdict(list)\n",
    "for engagement in paid_engagement_in_first_week:\n",
    "    account_key = engagement['account_key']\n",
    "    engagement_by_account_lessons[account_key].append(engagement['lessons_completed'])\n",
    "    \n"
   ]
  },
  {
   "cell_type": "code",
   "execution_count": 43,
   "metadata": {
    "collapsed": false
   },
   "outputs": [],
   "source": [
    "total_lessons_completed= {}\n",
    "\n",
    "\n",
    "for account_key,lesson_list in engagement_by_account_lessons.items():\n",
    "    total_lessons= 0\n",
    "    for data in lesson_list:\n",
    "        total_lessons += data\n",
    "        total_lessons_completed[account_key]= total_lessons\n",
    "        \n",
    "    \n",
    " "
   ]
  },
  {
   "cell_type": "code",
   "execution_count": 44,
   "metadata": {
    "collapsed": false
   },
   "outputs": [
    {
     "name": "stdout",
     "output_type": "stream",
     "text": [
      "mean 1.63618090452\n",
      "standard deviation value 3.00256129983\n",
      "min no 0\n",
      "Max value 36\n"
     ]
    }
   ],
   "source": [
    "print \"mean\",np.mean(total_lessons_completed.values())\n",
    "print \"standard deviation value\",np.std(total_lessons_completed.values())\n",
    "print \"min no\",np.min(total_lessons_completed.values())\n",
    "print \"Max value\",np.max(total_lessons_completed.values())"
   ]
  },
  {
   "cell_type": "markdown",
   "metadata": {},
   "source": [
    "### Let me create a function for the same.\n"
   ]
  },
  {
   "cell_type": "code",
   "execution_count": 51,
   "metadata": {
    "collapsed": false
   },
   "outputs": [
    {
     "name": "stdout",
     "output_type": "stream",
     "text": [
      "For  total_minutes_visted  \n",
      "The Mean Value is              : 306.708326753\n",
      "The Standard Deviation Value is: 412.996933409\n",
      "The Minimum Value is           : 0.0\n",
      "The Maximum Value is           : 3564.7332645\n",
      "                                      \n"
     ]
    },
    {
     "data": {
      "image/png": "[encoded data removed]",
      "text/plain": [
       "<matplotlib.figure.Figure at 0x17a8b6d8>"
      ]
     },
     "metadata": {},
     "output_type": "display_data"
    }
   ],
   "source": [
    "def group_by_acc(data,key1):\n",
    "    engagement_by_account = defaultdict(list)\n",
    "    for engagement in data:\n",
    "        account_key = engagement['account_key']\n",
    "        engagement_by_account[account_key].append(engagement[key1])\n",
    "    \n",
    "    total_counts= {}\n",
    "    for account_key, engagement_record in engagement_by_account.items():\n",
    "        total_count = 0\n",
    "        for point in engagement_record:\n",
    "            total_count +=point\n",
    "        total_counts[account_key]= total_count\n",
    "        \n",
    "    return total_counts\n",
    "\n",
    "\n",
    "\n",
    "def draw_hist(x,title1,ylabel1,xlabel1):\n",
    "    plt.hist(x)\n",
    "    # Chart title\n",
    "    plt.title(title1)\n",
    "    plt.xlabel(xlabel1)\n",
    "    plt.ylabel(ylabel1)\n",
    "\n",
    "    \n",
    "\n",
    "import seaborn as sns\n",
    "def summarize(all_values, key_value,title,ylabel1,xlabel1):\n",
    "    print \"For \",key_value,\" \"\n",
    "    print \"The Mean Value is              :\",np.mean(all_values)\n",
    "    print \"The Standard Deviation Value is:\",np.std(all_values)\n",
    "    print \"The Minimum Value is           :\",np.min(all_values)\n",
    "    print \"The Maximum Value is           :\",np.max(all_values)\n",
    "    draw_hist(all_values,title,ylabel1,xlabel1)\n",
    "    print \"                                      \"\n",
    "    \n",
    "       \n",
    "summarize(  (group_by_acc(paid_engagement_in_first_week,'total_minutes_visited').values()) ,'total_minutes_visted','Visual Display','Total minutes visted','number')\n"
   ]
  },
  {
   "cell_type": "code",
   "execution_count": 53,
   "metadata": {
    "collapsed": false
   },
   "outputs": [
    {
     "name": "stdout",
     "output_type": "stream",
     "text": [
      "For  have_visited  \n",
      "The Mean Value is              : 2.86733668342\n",
      "The Standard Deviation Value is: 2.25519800292\n",
      "The Minimum Value is           : 0\n",
      "The Maximum Value is           : 7\n",
      "                                      \n"
     ]
    },
    {
     "data": {
      "image/png": "[encoded data removed]",
      "text/plain": [
       "<matplotlib.figure.Figure at 0x17c920f0>"
      ]
     },
     "metadata": {},
     "output_type": "display_data"
    }
   ],
   "source": [
    "summarize(group_by_acc(paid_engagement_in_first_week,'have_visited').values(),'have_visited','Visual Display','Number of Students','Number Of courses visited')"
   ]
  },
  {
   "cell_type": "code",
   "execution_count": 55,
   "metadata": {
    "collapsed": false
   },
   "outputs": [
    {
     "name": "stdout",
     "output_type": "stream",
     "text": [
      "For  lessons_completed  \n",
      "The Mean Value is              : 1.63618090452\n",
      "The Standard Deviation Value is: 3.00256129983\n",
      "The Minimum Value is           : 0\n",
      "The Maximum Value is           : 36\n",
      "                                      \n"
     ]
    },
    {
     "data": {
      "image/png": "[encoded data removed]",
      "text/plain": [
       "<matplotlib.figure.Figure at 0x19aaeb00>"
      ]
     },
     "metadata": {},
     "output_type": "display_data"
    }
   ],
   "source": [
    "summarize(group_by_acc(paid_engagement_in_first_week,'lessons_completed').values(),'lessons_completed','Histogram for number of lesson completed','Number of Students','no of lessons')"
   ]
  },
  {
   "cell_type": "code",
   "execution_count": 56,
   "metadata": {
    "collapsed": false
   },
   "outputs": [
    {
     "name": "stdout",
     "output_type": "stream",
     "text": [
      "647\n",
      "481\n"
     ]
    }
   ],
   "source": [
    "\n",
    "passing_engagement=set()\n",
    "non_passing_engagement=set() \n",
    "\n",
    "subway_project_submission_keys = ['746169184','3176718735']\n",
    "\n",
    "for data in paid_submissions:\n",
    "    account_key = data['account_key']\n",
    "    if data['lesson_key'] in subway_project_submission_keys:\n",
    "        if data['assigned_rating']== 'UNGRADED' or data['assigned_rating']== 'INCOMPLETE':\n",
    "            non_passing_engagement.add(account_key)\n",
    "        else:\n",
    "            passing_engagement.add(account_key)\n",
    "            \n",
    "print len(passing_engagement)\n",
    "print len(non_passing_engagement)"
   ]
  },
  {
   "cell_type": "code",
   "execution_count": 57,
   "metadata": {
    "collapsed": false
   },
   "outputs": [
    {
     "name": "stdout",
     "output_type": "stream",
     "text": [
      "4527\n",
      "2392\n"
     ]
    }
   ],
   "source": [
    "passing_engagement1=[]\n",
    "non_passing_engagement1=[]\n",
    "\n",
    "for data in paid_engagement_in_first_week:\n",
    "    if data['account_key'] in passing_engagement:\n",
    "        passing_engagement1.append(data)\n",
    "    else:\n",
    "            non_passing_engagement1.append(data)\n",
    "                \n",
    "print len(passing_engagement1)\n",
    "print len(non_passing_engagement1)"
   ]
  },
  {
   "cell_type": "code",
   "execution_count": 59,
   "metadata": {
    "collapsed": false
   },
   "outputs": [],
   "source": [
    "#print \"for Passing group\"\n",
    "#summarize(group_by_acc(passing_engagement1,'lessons_completed').values(),'lessons_completed')\n",
    "#summarize(group_by_acc(passing_engagement1,'total_minutes_visited').values(),'total_minutes_visted')\n",
    "#summarize(group_by_acc(passing_engagement1,'have_visited').values(),'have_visted')\n",
    "\n",
    "\n"
   ]
  }
 ],
 "metadata": {
  "anaconda-cloud": {},
  "kernelspec": {
   "display_name": "Python [default]",
   "language": "python",
   "name": "python2"
  },
  "language_info": {
   "codemirror_mode": {
    "name": "ipython",
    "version": 2
   },
   "file_extension": ".py",
   "mimetype": "text/x-python",
   "name": "python",
   "nbconvert_exporter": "python",
   "pygments_lexer": "ipython2",
   "version": "2.7.12"
  }
 },
 "nbformat": 4,
 "nbformat_minor": 1
}
